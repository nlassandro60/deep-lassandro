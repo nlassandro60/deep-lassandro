{
 "cells": [
  {
   "cell_type": "code",
   "execution_count": null,
   "id": "c4fd9392",
   "metadata": {
    "vscode": {
     "languageId": "plaintext"
    }
   },
   "outputs": [],
   "source": [
    "import pandas as pd"
   ]
  }
 ],
 "metadata": {
  "language_info": {
   "name": "python"
  }
 },
 "nbformat": 4,
 "nbformat_minor": 5
}
